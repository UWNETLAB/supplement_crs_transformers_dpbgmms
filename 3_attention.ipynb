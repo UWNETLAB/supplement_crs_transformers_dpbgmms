{
 "cells": [
  {
   "cell_type": "code",
   "execution_count": 1,
   "id": "8870ec96-ea97-4bbd-817c-dcffaea4aa56",
   "metadata": {},
   "outputs": [
    {
     "name": "stderr",
     "output_type": "stream",
     "text": [
      "2023-06-16 23:33:24.533994: W tensorflow/compiler/tf2tensorrt/utils/py_utils.cc:38] TF-TRT Warning: Could not find TensorRT\n"
     ]
    }
   ],
   "source": [
    "import pandas as pd\n",
    "import os\n",
    "import pickle\n",
    "import torch\n",
    "import random\n",
    "import re\n",
    "import numpy as np\n",
    "random.seed(21)\n",
    "from transformers import DistilBertForMaskedLM, DistilBertConfig, AutoTokenizer"
   ]
  },
  {
   "cell_type": "code",
   "execution_count": 2,
   "id": "bf0a6351-b4ac-45ce-8591-b046849aacef",
   "metadata": {},
   "outputs": [],
   "source": [
    "year_list = [\n",
    "    '1900_1909',\n",
    "    '1910_1919',\n",
    "    '1920_1929',\n",
    "    '1930_1939',\n",
    "    '1940_1949',\n",
    "    '1950_1959',\n",
    "    '1960_1969',\n",
    "    '1970_1979',\n",
    "    '1980_1989',\n",
    "    '1990_1999',\n",
    "    '2000_2009',\n",
    "    '2010_2020'\n",
    "]"
   ]
  },
  {
   "cell_type": "code",
   "execution_count": 3,
   "id": "cd573fe0-ee4e-4b52-abf6-763ef72a3a18",
   "metadata": {},
   "outputs": [],
   "source": [
    "country_list = ['china',\n",
    "                'north korea',\n",
    "                'south korea',\n",
    "                'canada',\n",
    "                'united kingdom',\n",
    "                'germany']"
   ]
  },
  {
   "cell_type": "code",
   "execution_count": 4,
   "id": "7a14af48-cbda-433f-aefe-edbc4f363bf9",
   "metadata": {},
   "outputs": [],
   "source": [
    "concept_list = ['autocracy',\n",
    "                'autocratic',\n",
    "                'dictator',\n",
    "                'dictatorship',\n",
    "               'authoritarianism',\n",
    "               'democracy']"
   ]
  },
  {
   "cell_type": "code",
   "execution_count": 5,
   "id": "2ed512d2-76b9-486a-ad13-4c55a67b29fe",
   "metadata": {},
   "outputs": [],
   "source": [
    "def load_decade_model(year):\n",
    "    config = DistilBertConfig.from_json_file('./crs_models/' + year + '/config.json')\n",
    "    config.output_hidden_states = True\n",
    "    config.output_attentions=True\n",
    "    model = DistilBertForMaskedLM(config)\n",
    "    model.load_state_dict(torch.load('./crs_models/' + year + '/pytorch_model.bin', map_location = torch.device(\"cuda\")))\n",
    "    model.eval()\n",
    "    tokenizer = AutoTokenizer.from_pretrained('./crs_models/' + year + '/')\n",
    "    return model, tokenizer"
   ]
  },
  {
   "cell_type": "code",
   "execution_count": 6,
   "id": "79501dc7-bfd2-404c-91e6-cb6f70c89ff3",
   "metadata": {},
   "outputs": [],
   "source": [
    "def get_attentions(sents, term, model, tokenizer):\n",
    "    top_words = []\n",
    "    word_weights = []\n",
    "    \n",
    "    for sent in sents:\n",
    "        avgs = []\n",
    "        sent = sent.split(' ')        \n",
    "        encoded = tokenizer(sent, truncation = True, return_tensors='pt', is_split_into_words=True)\n",
    "        \n",
    "        trunc_flag = None\n",
    "        for t in term.split(' '):\n",
    "            idx = sent.index(t)\n",
    "            token_span = encoded.word_to_tokens(idx)\n",
    "            if token_span == None:\n",
    "                trunc_flag = True\n",
    "                \n",
    "        if trunc_flag == True:\n",
    "            top_words.append(np.nan)\n",
    "            word_weights.append(np.nan)\n",
    "            continue\n",
    "        \n",
    "        with torch.no_grad():\n",
    "            outputs = model(encoded.input_ids)\n",
    "        attention = outputs[-1]        \n",
    "        \n",
    "        for t in term.split(' '):\n",
    "            for layer in [3,4,5]:\n",
    "                for head in range(11):\n",
    "                    idx = sent.index(t)\n",
    "                    token_span = encoded.word_to_tokens(idx)\n",
    "                    span_start = token_span.start\n",
    "                    span_end = token_span.end\n",
    "                    avg_weight=attention[layer][0][head][range(span_start, span_end)].mean(dim=0)\n",
    "                    for t2 in term.split(' '):\n",
    "                        idx2 = sent.index(t2)\n",
    "                        token_span = encoded.word_to_tokens(idx2)\n",
    "                        span_start = token_span.start\n",
    "                        span_end = token_span.end\n",
    "                        idx3 = torch.tensor([range(span_start, span_end)])\n",
    "                        avg_weight[idx3[:]] = 0\n",
    "                    avgs.append(avg_weight)\n",
    "                    \n",
    "        mean = torch.mean(torch.stack(avgs), dim=0)\n",
    "        max_weight = mean[1:-1].max().item()\n",
    "        word_weights.append(max_weight)\n",
    "        index = (mean == max_weight).nonzero(as_tuple=True)[0]\n",
    "        top_word = encoded.token_to_word(index)\n",
    "        top_words.append(sent[top_word])\n",
    "            \n",
    "    df = pd.DataFrame()\n",
    "    df['top_word'], df['word_weight'] = top_words, word_weights\n",
    "    return df"
   ]
  },
  {
   "cell_type": "code",
   "execution_count": 7,
   "id": "88ba4ecc-6968-4277-b696-65e5cbab7382",
   "metadata": {},
   "outputs": [],
   "source": [
    "def process_attentions(sentence_dict, term_list, year_list, term_type):\n",
    "    for term in term_list:\n",
    "        for year in year_list:\n",
    "            sents = sentence_dict[term][year]\n",
    "            if sents != None:\n",
    "                model, tokenizer = load_decade_model(year)\n",
    "                df = get_attentions(sents, term, model, tokenizer)\n",
    "                outname = term + '_' + year + '.csv'\n",
    "                outdir = './crs_attention_words/' + term_type + '/' + term\n",
    "                if not os.path.exists(outdir):\n",
    "                    os.makedirs(outdir)\n",
    "                fullname = os.path.join(outdir,outname)\n",
    "                df.to_csv(fullname, index=False)"
   ]
  },
  {
   "cell_type": "code",
   "execution_count": 8,
   "id": "b10dbc9a-bbd8-4a87-86cd-feccb6acc9cc",
   "metadata": {},
   "outputs": [],
   "source": [
    "# LOAD COUNTRY SENTENCES\n",
    "\n",
    "with open('./crs_sents/country_sents.pkl', 'rb') as handle:\n",
    "    country_sentence_dict = pickle.load(handle)"
   ]
  },
  {
   "cell_type": "code",
   "execution_count": 10,
   "id": "dbdfaf57-effc-4a4d-9a3a-5c04a4ef97a1",
   "metadata": {},
   "outputs": [],
   "source": [
    "process_attentions(country_sentence_dict, country_list, year_list, 'countries')"
   ]
  },
  {
   "cell_type": "code",
   "execution_count": 11,
   "id": "9cf8dbfa-f025-4889-9c00-48aee0b9ce52",
   "metadata": {},
   "outputs": [],
   "source": [
    "del country_sentence_dict"
   ]
  },
  {
   "cell_type": "code",
   "execution_count": 17,
   "id": "135543b0-0708-4ae9-8076-81db325ab97d",
   "metadata": {},
   "outputs": [],
   "source": [
    "# LOAD CONCEPT SENTENCES\n",
    "\n",
    "with open('./crs_sents/concept_sents.pkl', 'rb') as handle:\n",
    "    concept_sentence_dict = pickle.load(handle)"
   ]
  },
  {
   "cell_type": "code",
   "execution_count": 18,
   "id": "f3f2026b-f60c-4773-a262-1ea7333e540f",
   "metadata": {},
   "outputs": [],
   "source": [
    "process_attentions(concept_sentence_dict, concept_list, year_list, 'concepts')"
   ]
  },
  {
   "cell_type": "code",
   "execution_count": null,
   "id": "7cc61d03-31d1-4cc0-92db-8c39fe6e9105",
   "metadata": {},
   "outputs": [],
   "source": [
    "del concept_sentence_dict"
   ]
  },
  {
   "cell_type": "code",
   "execution_count": null,
   "id": "537a68b6-df6b-4875-aaa8-981d1fae7b29",
   "metadata": {},
   "outputs": [],
   "source": []
  }
 ],
 "metadata": {
  "kernelspec": {
   "display_name": "Python [conda env:crs1]",
   "language": "python",
   "name": "conda-env-crs1-py"
  },
  "language_info": {
   "codemirror_mode": {
    "name": "ipython",
    "version": 3
   },
   "file_extension": ".py",
   "mimetype": "text/x-python",
   "name": "python",
   "nbconvert_exporter": "python",
   "pygments_lexer": "ipython3",
   "version": "3.9.16"
  }
 },
 "nbformat": 4,
 "nbformat_minor": 5
}
